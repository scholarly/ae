{
 "metadata": {
  "name": ""
 },
 "nbformat": 3,
 "nbformat_minor": 0,
 "worksheets": [
  {
   "cells": [
    {
     "cell_type": "code",
     "collapsed": false,
     "input": [
      "template = \"https://www.lds.org/scriptures/bofm/print/{}/{}?lang=eng\"\n",
      "import os\n",
      "import hashlib\n",
      "import base64\n",
      "from urllib.request import urlopen,HTTPError\n",
      "from bs4 import BeautifulSoup as bs\n",
      "from contextlib import closing\n",
      "\n",
      "def sink(outf):\n",
      "    def out(*args):\n",
      "        for arg in args:\n",
      "            outf.write(arg)\n",
      "        outf.write(\"\\n\")\n",
      "    return out\n",
      "\n",
      "def to_plain_text(primary,out):\n",
      "    intro = primary.find(\"div\",{\"class\":\"intro\"})\n",
      "    summary = primary.find(\"div\",{\"class\":\"summary\"})\n",
      "    verses = primary.find(\"div\",{\"class\":\"verses\"})\n",
      "    \n",
      "    for sup in verses.find_all(\"sup\"):\n",
      "        sup.replace_with(text.new_tag(\"b\"))\n",
      "    \n",
      "    if intro:\n",
      "        out(\"intro\\t\",intro.text)\n",
      "    \n",
      "    if summary:\n",
      "        out(\"summary\\t\",summary.text)\n",
      "    \n",
      "    vnt = 1\n",
      "    for v in verses.find_all(\"p\"):\n",
      "        vno = v.find(\"span\",{\"class\":\"verse\"})\n",
      "        if(vno is None):\n",
      "            vnt +=1\n",
      "        else:\n",
      "            vnt = vno.text\n",
      "            vno.replace_with(text.new_tag(\"span\"))\n",
      "            \n",
      "        out(vnt,\"\\t\",v.text)\n",
      "\n",
      "    \n",
      "def dumptext(book,chapter):\n",
      "    with urlopen(template.format(book,chapter)) as ui:\n",
      "        text = bs(ui.read())\n",
      "\n",
      "        primary = text.find(\"div\",{\"id\":\"primary\"})\n",
      "        if primary:\n",
      "            target = \"{}-{:02d}.tsv\".format(book,chapter)\n",
      "            with open(target,\"wt\") as fo:\n",
      "                to_plain_text(primary,sink(fo))\n",
      "\n",
      "        \n",
      "\n",
      "def cacheopen(url):\n",
      "    tag = b\".cache/\"+base64.encode(hashlib.sha1(url).digest()).strip()\n",
      "    if not os.path.exists(tag):\n",
      "        text = urlopen(url).read()\n",
      "        with open(tag,\"wb\") as fo:\n",
      "            fo.write(text)\n",
      "    return closing(open(tag,\"rb\"))\n",
      "    \n",
      "\n",
      "\n",
      "for book,chapters in (\n",
      "        (\"1-ne\",22),(\"2-ne\",33),(\"jacob\",7),(\"enos\",1),(\"jarom\",1),(\"omni\",1),\n",
      "        (\"w-of-m\",1),(\"mosiah\",29),(\"alma\",63),(\"hel\",16),(\"3-ne\",30),(\"4-ne\",1),\n",
      "        (\"morm\",9),(\"ether\",15),(\"moro\",10)):\n",
      "    for chapter in range(1,chapters+1):\n",
      "        target = \"{}-{}.tsv\".format(book,chapter)\n",
      "        if os.path.exists(target):\n",
      "            continue\n",
      "        try:\n",
      "            dumptext(book,chapter)\n",
      "        except HTTPError as e:\n",
      "            print(e,book,chapter)\n",
      "\n"
     ],
     "language": "python",
     "metadata": {},
     "outputs": [
      {
       "output_type": "stream",
       "stream": "stdout",
       "text": [
        "HTTP Error 400: Bad Request alma 3\n"
       ]
      }
     ],
     "prompt_number": 62
    },
    {
     "cell_type": "code",
     "collapsed": false,
     "input": [
      "dumptext(\"alma\",3)"
     ],
     "language": "python",
     "metadata": {},
     "outputs": [],
     "prompt_number": 63
    },
    {
     "cell_type": "code",
     "collapsed": false,
     "input": [
      "def to_plain_text(primary):\n",
      "    intro = primary.find(\"div\",{\"class\":\"intro\"})\n",
      "    summary = primary.find(\"div\",{\"class\":\"summary\"})\n",
      "    verses = primary.find(\"div\",{\"class\":\"verses\"})\n",
      "    \n",
      "    for sup in verses.find_all(\"sup\"):\n",
      "        sup.replace_with(text.new_tag(\"b\"))\n",
      "    \n",
      "    if intro:\n",
      "        print(\"intro\\t\",intro.text)\n",
      "    \n",
      "    if summary:\n",
      "        print(\"summary\\t\",summary.text)\n",
      "    \n",
      "    vnt = 1\n",
      "    for v in verses.find_all(\"p\"):\n",
      "        vno = v.find(\"span\",{\"class\":\"verse\"})\n",
      "        if(vno is None):\n",
      "            vnt +=1\n",
      "        else:\n",
      "            vnt = vno.text\n",
      "            vno.replace_with(text.new_tag(\"span\"))\n",
      "            \n",
      "        print(vnt,\"\\t\",v.text)"
     ],
     "language": "python",
     "metadata": {},
     "outputs": [],
     "prompt_number": 37
    },
    {
     "cell_type": "code",
     "collapsed": false,
     "input": [
      "\"foo{:02d}\".format(1)"
     ],
     "language": "python",
     "metadata": {},
     "outputs": [
      {
       "metadata": {},
       "output_type": "pyout",
       "prompt_number": 59,
       "text": [
        "'foo01'"
       ]
      }
     ],
     "prompt_number": 59
    }
   ],
   "metadata": {}
  }
 ]
}